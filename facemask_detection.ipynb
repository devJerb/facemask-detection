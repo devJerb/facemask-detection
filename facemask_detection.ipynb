{
  "cells": [
    {
      "cell_type": "markdown",
      "source": [
        "# Facemask Detection using YOLOv7"
      ],
      "metadata": {
        "id": "o2ERqBkPwxZV"
      }
    },
    {
      "cell_type": "markdown",
      "source": [
        "Prior to performing the steps on this notebook, they're found on the repository's [instructions](https://github.com/devJerb/facemask-detection#readme)\n",
        "\n",
        "Don't forget to change your runtime type to GPU when training your model!"
      ],
      "metadata": {
        "id": "fWjQ-zh-48pl"
      }
    },
    {
      "cell_type": "markdown",
      "source": [
        "Mount your Google Drive"
      ],
      "metadata": {
        "id": "WZCVOQ-lzQmJ"
      }
    },
    {
      "cell_type": "code",
      "execution_count": null,
      "metadata": {
        "id": "Xj1SHaL5-Nmw"
      },
      "outputs": [],
      "source": [
        "from google.colab import drive\n",
        "drive.mount('/content/drive', force_remount=True)"
      ]
    },
    {
      "cell_type": "markdown",
      "source": [
        "## Clone YOLOv7"
      ],
      "metadata": {
        "id": "9uI3f9bGxTyF"
      }
    },
    {
      "cell_type": "markdown",
      "source": [
        "The default pathing of Google Colab /content/drive/MyDrive whenever mounted"
      ],
      "metadata": {
        "id": "LvW9w-XtbCBF"
      }
    },
    {
      "cell_type": "code",
      "execution_count": null,
      "metadata": {
        "id": "3fy86AjkOP3y"
      },
      "outputs": [],
      "source": [
        "%cd /content/drive/MyDrive\n",
        "!git clone https://github.com/WongKinYiu/yolov7.git"
      ]
    },
    {
      "cell_type": "markdown",
      "source": [
        "Change into the directory of yolov7 and install the contents found on `requirements.txt`"
      ],
      "metadata": {
        "id": "mqInti4dxaOy"
      }
    },
    {
      "cell_type": "code",
      "source": [
        "%cd yolov7\n",
        "!pip install -r requirements.txt\n",
        "!pip install roboflow"
      ],
      "metadata": {
        "id": "h0nWYJyExZHj"
      },
      "execution_count": null,
      "outputs": []
    },
    {
      "cell_type": "markdown",
      "source": [
        "## Import Packages"
      ],
      "metadata": {
        "id": "CjxEFXVDx-dC"
      }
    },
    {
      "cell_type": "code",
      "execution_count": null,
      "metadata": {
        "id": "tlMvQnMSX742"
      },
      "outputs": [],
      "source": [
        "import pandas as pd\n",
        "import numpy as np\n",
        "import seaborn as sns\n",
        "import os\n",
        "import shutil\n",
        "import xml.etree.ElementTree as ET\n",
        "import glob\n",
        "\n",
        "import json\n",
        "\n",
        "from IPython.display import HTML\n",
        "from base64 import b64encode"
      ]
    },
    {
      "cell_type": "markdown",
      "source": [
        "Download the necessary [weights](https://github.com/WongKinYiu/yolov7/releases) found in the current releases found on the YOLOv7 repository"
      ],
      "metadata": {
        "id": "QIfAJXhxyD5X"
      }
    },
    {
      "cell_type": "code",
      "execution_count": null,
      "metadata": {
        "id": "YWl6HgkyW-Yb"
      },
      "outputs": [],
      "source": [
        "%cd /content/drive/MyDrive/yolov7\n",
        "if not os.path.exists('yolov7-e6e.pt'):\n",
        "    !wget https://github.com/WongKinYiu/yolov7/releases/download/v0.1/yolov7-e6e.pt"
      ]
    },
    {
      "cell_type": "markdown",
      "source": [
        "## Dataset"
      ],
      "metadata": {
        "id": "qjOtJv8eatTc"
      }
    },
    {
      "cell_type": "markdown",
      "source": [
        "The [dataset](https://www.kaggle.com/datasets/andrewmvd/face-mask-detection) source from Kaggle for face mask detection used in this notebook\n",
        "\n",
        "Move the *annotations* and *images* into /content/drive/MyDrive/yolov7 on your Google Drive\n",
        "\n",
        "Convert XML files into YOLO format based on [this](https://towardsdatascience.com/convert-pascal-voc-xml-to-yolo-for-object-detection-f969811ccba5) article from Medium"
      ],
      "metadata": {
        "id": "qiw4rfFt42Np"
      }
    },
    {
      "cell_type": "code",
      "execution_count": null,
      "metadata": {
        "id": "KR8VNPhXZIZK"
      },
      "outputs": [],
      "source": [
        "def xml_to_yolo_bbox(bbox, w, h):\n",
        "    x_center = ((bbox[2] + bbox[0]) / 2) / w\n",
        "    y_center = ((bbox[3] + bbox[1]) / 2) / h\n",
        "    width = (bbox[2] - bbox[0]) / w\n",
        "\n",
        "    height = (bbox[3] - bbox[1]) / h\n",
        "    return [x_center, y_center, width, height]"
      ]
    },
    {
      "cell_type": "markdown",
      "source": [
        "Make their respective directories for *train*, *test*, *val* each containing *images* and *labels*"
      ],
      "metadata": {
        "id": "y-2k5fd81AED"
      }
    },
    {
      "cell_type": "code",
      "execution_count": null,
      "metadata": {
        "id": "VC0qtty3aQkY"
      },
      "outputs": [],
      "source": [
        "def create_folder(path):\n",
        "    if not os.path.exists(path):\n",
        "        os.makedirs(path)"
      ]
    },
    {
      "cell_type": "code",
      "execution_count": null,
      "metadata": {
        "id": "5HIXn2CKaUiY"
      },
      "outputs": [],
      "source": [
        "gdrive_path = '/content/drive/MyDrive/'\n",
        "\n",
        "create_folder(f'{gdrive_path}yolov7/train/images')\n",
        "create_folder(f'{gdrive_path}yolov7/train/labels')\n",
        "create_folder(f'{gdrive_path}yolov7/val/images')\n",
        "create_folder(f'{gdrive_path}yolov7/val/labels')\n",
        "create_folder(f'{gdrive_path}yolov7/test/images')\n",
        "create_folder(f'{gdrive_path}yolov7/test/labels')"
      ]
    },
    {
      "cell_type": "markdown",
      "source": [
        "Convert and move all annotations and images to their respective directories along with the conversion of the XML formats"
      ],
      "metadata": {
        "id": "3Eefz_F96fkM"
      }
    },
    {
      "cell_type": "code",
      "execution_count": null,
      "metadata": {
        "id": "ZjlDE0BvbosH"
      },
      "outputs": [],
      "source": [
        "img_folder = f'{gdrive_path}yolov7/images'\n",
        "_, _, files = next(os.walk(img_folder))\n",
        "pos = 0\n",
        "for f in files:\n",
        "        source_img = os.path.join(img_folder, f)\n",
        "        if pos < 700:\n",
        "            dest_folder = f'{gdrive_path}yolov7/train/'\n",
        "        elif (pos >= 700 and pos < 800):\n",
        "            dest_folder = f'{gdrive_path}yolov7/val/'\n",
        "        else:\n",
        "            dest_folder = f'{gdrive_path}yolov7/test/'\n",
        "        destination_img = os.path.join(dest_folder,'images', f)\n",
        "        shutil.copy(source_img, destination_img)\n",
        "        # print(destination_img) # show every destination folder made\n",
        "\n",
        "        # check for corresponding label\n",
        "        label_file_basename = os.path.splitext(f)[0]\n",
        "        label_source_file = f\"{label_file_basename}.xml\"\n",
        "        label_dest_file = f\"{label_file_basename}.txt\"\n",
        "        \n",
        "        label_source_path = os.path.join('annotations', label_source_file)\n",
        "        label_dest_path = os.path.join(dest_folder, 'labels', label_dest_file)\n",
        "        # if file exists, copy it to target folder\n",
        "        if os.path.exists(label_source_path):\n",
        "             # parse the content of the xml file\n",
        "            tree = ET.parse(label_source_path)\n",
        "            root = tree.getroot()\n",
        "            width = int(root.find(\"size\").find(\"width\").text)\n",
        "            height = int(root.find(\"size\").find(\"height\").text)\n",
        "            classes = ['with_mask', 'without_mask', 'mask_weared_incorrect']\n",
        "            result = []\n",
        "            for obj in root.findall('object'):\n",
        "                label = obj.find(\"name\").text\n",
        "                # check for new classes and append to list\n",
        "                index = classes.index(label)\n",
        "                pil_bbox = [int(x.text) for x in obj.find(\"bndbox\")]\n",
        "                yolo_bbox = xml_to_yolo_bbox(pil_bbox, width, height)\n",
        "                # convert data to string\n",
        "                bbox_string = \" \".join([str(x) for x in yolo_bbox])\n",
        "                result.append(f\"{index} {bbox_string}\")\n",
        "                if result:\n",
        "                    # generate a YOLO format text file for each xml file\n",
        "                    with open(label_dest_path, \"w\", encoding=\"utf-8\") as f:\n",
        "                        f.write(\"\\n\".join(result))\n",
        "                        \n",
        "        \n",
        "        pos += 1"
      ]
    },
    {
      "cell_type": "markdown",
      "source": [
        "## Model Training"
      ],
      "metadata": {
        "id": "B5-0KmfF5BMe"
      }
    },
    {
      "cell_type": "markdown",
      "source": [
        "Currently using 4 as a batch size per update and 50 epochs after every complete passes"
      ],
      "metadata": {
        "id": "KljSB7PP5YwA"
      }
    },
    {
      "cell_type": "code",
      "execution_count": null,
      "metadata": {
        "id": "6mEM9BHAh_qz"
      },
      "outputs": [],
      "source": [
        "%cd /content/drive/MyDrive/YOLOv7/yolov7\n",
        "!python train.py --weights yolov7-e6e.pt --data data/masks.yaml --workers 1 --batch-size 4 --img 416 --cfg cfg/training/yolov7-masks.yaml --name yolov7 --epochs 50"
      ]
    },
    {
      "cell_type": "markdown",
      "source": [
        "# Model Testing"
      ],
      "metadata": {
        "id": "WYS79XbE55ND"
      }
    },
    {
      "cell_type": "markdown",
      "source": [
        "You can change the source of detection to webcam by changing `--source 0` but provided is from the *test* images"
      ],
      "metadata": {
        "id": "W9-efHFo59F7"
      }
    },
    {
      "cell_type": "code",
      "source": [
        "%cd /content/drive/MyDrive/YOLOv7/yolov7\n",
        "!python detect.py --weights ./runs/train/yolov7/weights/best.pt --conf 0.4 --img-size 640 --source /test/images/maksssksksss83.png"
      ],
      "metadata": {
        "id": "CrsNl7P3DWuW"
      },
      "execution_count": null,
      "outputs": []
    }
  ],
  "metadata": {
    "colab": {
      "provenance": []
    },
    "gpuClass": "standard",
    "kernelspec": {
      "display_name": "Python 3",
      "name": "python3"
    },
    "language_info": {
      "name": "python"
    }
  },
  "nbformat": 4,
  "nbformat_minor": 0
}
